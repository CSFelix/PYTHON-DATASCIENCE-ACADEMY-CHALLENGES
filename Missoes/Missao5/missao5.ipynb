{
 "cells": [
  {
   "cell_type": "markdown",
   "metadata": {},
   "source": [
    "# Observação\n",
    "\n",
    "<br>\n",
    "<div style=\"background: black;border-left: 6px solid dodgerblue; box-shadow: 2px 2px 0px 0px black, outset 0px 0px 0px 2px black\">\n",
    "    <font color=\"lightskyblue\">Esta análise consiste no desafio 5 presente no capítulo 7 do curso <b>Python: Fundamentos para Análise de Dados</b> disponibilizado gratuitamente pela <abbr title=\"Data Science Academy\"><b>DSA</b></abbr>. O conteúdo do curso pode ser encontrado <a href=\"https://www.datascienceacademy.com.br/course?courseid=python-fundamentos\">neste link</a>.</font>\n",
    "</div>\n",
    "\n",
    "<hr>"
   ]
  },
  {
   "cell_type": "markdown",
   "metadata": {},
   "source": [
    "## Missão: Analisar o Comportamento de Compra de Consumidores."
   ]
  },
  {
   "cell_type": "markdown",
   "metadata": {},
   "source": [
    "## Nível de Dificuldade: Alto (até o capítulo 7 do curso '-')"
   ]
  },
  {
   "cell_type": "markdown",
   "metadata": {},
   "source": [
    "Você recebeu a tarefa de analisar os dados de compras de um web site! Os dados estão no formato JSON e disponíveis junto com este notebook.\n",
    "\n",
    "No site, cada usuário efetua login usando sua conta pessoal e pode adquirir produtos à medida que navega pela lista de produtos oferecidos. Cada produto possui um valor de venda. Dados de idade e sexo de cada usuário foram coletados e estão fornecidos no arquivo JSON.\n",
    "\n",
    "Seu trabalho é entregar uma análise de comportamento de compra dos consumidores. Esse é um tipo de atividade comum realizado por Cientistas de Dados e o resultado deste trabalho pode ser usado, por exemplo, para alimentar um modelo de Machine Learning e fazer previsões sobre comportamentos futuros.\n",
    "\n",
    "Mas nesta missão você vai analisar o comportamento de compra dos consumidores usando o pacote Pandas da linguagem Python e seu relatório final deve incluir cada um dos seguintes itens:\n",
    "\n",
    ">**Contagem de Consumidores**\n",
    "\n",
    "<input type='checkbox' checked>`  Número total de consumidores`</input>\n",
    "<hr/>\n",
    "\n",
    ">**Análise Geral de Compras**\n",
    "\n",
    "<input type='checkbox' checked>`  Número de itens exclusivos`</input>\n",
    "\n",
    "<input type='checkbox' checked>`  Preço médio de compra`</input>\n",
    "\n",
    "<input type='checkbox' checked>`  Número total de compras`</input>\n",
    "\n",
    "<input type='checkbox' checked>`  Rendimento total`</input>\n",
    "<hr/>\n",
    "\n",
    ">**Análise Demográfica**\n",
    "\n",
    "<input type='checkbox' checked>`  Porcentagem e contagem de compradores masculinos`</input>\n",
    "\n",
    "<input type='checkbox' checked>`  Porcentagem e contagem de compradores do sexo feminino`</input>\n",
    "\n",
    "<input type='checkbox' checked>`  Porcentagem e contagem de outros / não divulgados`</input>\n",
    "<hr/>\n",
    "\n",
    ">**Análise de Compras Por Gênero**\n",
    "\n",
    "<input type='checkbox' checked>`  Número de compras`</input>\n",
    "\n",
    "<input type='checkbox' checked>`  Preço médio de compra`</input>\n",
    "\n",
    "<input type='checkbox' checked>`  Valor Total de Compra`</input>\n",
    "\n",
    "<input type='checkbox' checked><s>`  Compras for faixa etária`</s></input>\n",
    "<hr/>\n",
    "\n",
    ">**Identifique os 5 principais compradores pelo valor total de compra e, em seguida, liste (em uma tabela):**\n",
    "\n",
    "<input type='checkbox' checked>`  Login`</input>\n",
    "\n",
    "<input type='checkbox' checked>`  Número de compras`</input>\n",
    "\n",
    "<input type='checkbox' checked>`  Preço médio de compra`</input>\n",
    "\n",
    "<input type='checkbox' checked>`  Valor Total de Compra`</input>\n",
    "\n",
    "<input type='checkbox' checked>`  Itens mais populares`</input>\n",
    "<hr/>\n",
    "\n",
    ">**Identifique os 5 itens mais populares por contagem de compras e, em seguida, liste (em uma tabela):**\n",
    "\n",
    "<input type='checkbox' checked>`  ID do item`</input>\n",
    "\n",
    "<input type='checkbox' checked>`  Nome do item`</input>\n",
    "\n",
    "<input type='checkbox' checked>`  Número de compras`</input>\n",
    "\n",
    "<input type='checkbox' checked>`  Preço do item`</input>\n",
    "\n",
    "<input type='checkbox' checked>`  Valor Total de Compra`</input>\n",
    "\n",
    "<input type='checkbox' checked><s>`  Itens mais lucrativos`</s></input>\n",
    "<hr/>\n",
    "\n",
    ">**Identifique os 5 itens mais lucrativos pelo valor total de compra e, em seguida, liste (em uma tabela):**\n",
    "\n",
    "<input type='checkbox' checked>`  ID do item`</input>\n",
    "\n",
    "<input type='checkbox' checked>`  Nome do item`</input>\n",
    "\n",
    "<input type='checkbox' checked>`  Número de compras`</input>\n",
    "\n",
    "<input type='checkbox' checked>`  Preço do item`</input>\n",
    "\n",
    "<input type='checkbox' checked>`  Valor Total de Compra`</input>\n",
    "<hr/>\n",
    "\n",
    "\n",
    ">**Visualização de Dados:**\n",
    "\n",
    "<input type='checkbox' checked>`  Gráficos  Plots`</input>\n",
    "\n",
    "<input type='checkbox' checked>`  Tabelas`</input>\n",
    "<hr/>\n",
    "\n",
    ">**Como considerações finais:**\n",
    "\n",
    "<input type='checkbox' checked>`  Seu script deve funcionar para o conjunto de dados fornecido`</input>\n",
    "\n",
    "<input type='checkbox' checked>`  Você deve usar a Biblioteca Pandas e o Jupyter Notebook.`</input>\n",
    "<hr/>\n",
    "\n",
    "# <font color='red'>Seu Código Começa Aqui</font>"
   ]
  },
  {
   "cell_type": "markdown",
   "metadata": {},
   "source": [
    "# Procedimentos\n",
    "\n",
    "Toda análise de dados possui um padrão de passos a serem seguidos a fim de facilitar o processamento e melhorar a precisão dos resultados obtidos de maneira produtiva e concisa.\n",
    "\n",
    "* Entender o Problema (este passo já foi concluído com a atribuição da missão acima)\n",
    "* Coleta de Dados (os dados para análise já estão extraídos e salvos no arquivo <a href=\"arquivos\\dados_compras.json\">arquivos\\dados_compras.json</a>)\n",
    "* Processamento dos Dados (iremos importar o arquivo e partir para a Análise Exploratória)\n",
    "* Exploração dos Dados (verificaremos dados estatísticos bem como falhas nos dados por meio dos pacotes **pandas**, **matplotlib** e **seaborn**)\n",
    "* Comunicação de Resultados (como trata-se apenas de um desafio de estudo, podemos pular este passo rsrs)\n",
    "* Feedback (avaliação da análise e verificação se é necessário retornar à análise)\n",
    "\n",
    "![Ciclo da Análise de Dados](arquivos/ciclo_data_science.jpg)\n",
    "\n",
    "<hr>"
   ]
  },
  {
   "cell_type": "markdown",
   "metadata": {},
   "source": [
    "## <font color=\"blue\">0 - Funções</font>\n",
    "\n",
    "Primeiramente, importamos o método `itemgetter` da biblioteaca operator para ordenação de listas de listas (resumidamente, uma lista que armazena outras listas, ou 'arrays' que armazenam outros 'arrays') que permite escolhermos a index da lista como base na ordenação em conjunto com a função built-in: `sorted`.\n",
    "\n",
    "Também já criamos a função `porcentagem`, que servirá apenas para encontrar a porcentagem de um valor sobre o total (arredondamento de  casas decimais."
   ]
  },
  {
   "cell_type": "code",
   "execution_count": 1,
   "metadata": {},
   "outputs": [],
   "source": [
    "from operator import itemgetter\n",
    "porcentagem = lambda parte, total: round(parte * 100 / total, 2)"
   ]
  },
  {
   "cell_type": "markdown",
   "metadata": {},
   "source": [
    "## <font color=\"blue\">1 - Importação das Bibiotecas e dos Dados</font>\n",
    "\n",
    "Para facilitar o processo de análise, importamos as seguintes bibliotecas:\n",
    "\n",
    "* `pandas` : manipulação dos dados por meio de tabelas (parecidas com excell);\n",
    "* `matplotlib.pyplot` : visualização gráfica;\n",
    "* `seaborn` : visualização gráfica.\n",
    "\n",
    "Talvez você deve estar se perguntando: 'Qual a diferença do matplot com o seaborn?'. Bem, o matplot é aplicado com `gráficos estáticos` e apresenta layouts mais simples, enquanto que o seaborn fornece `gráficos interativos` e layouts mais modernos.\n",
    "\n",
    "Sim, também poderíamos estar importando a biblioteca `numpy` para manipulação de arrays e matrizes, mas não convém a esta análise o uso direto dela (digo isso porque o pandas acessa a bilbioteca implicitamente quando necessário)."
   ]
  },
  {
   "cell_type": "code",
   "execution_count": 2,
   "metadata": {},
   "outputs": [],
   "source": [
    "import pandas as pd\n",
    "import matplotlib.pyplot as plt\n",
    "import seaborn as sbs"
   ]
  },
  {
   "cell_type": "code",
   "execution_count": 3,
   "metadata": {},
   "outputs": [],
   "source": [
    "log_compras = pd.read_json('arquivos\\dados_compras.json')"
   ]
  },
  {
   "cell_type": "markdown",
   "metadata": {},
   "source": [
    "### <font color=\"blue\">2 - Preparação dos Dados</font>\n",
    "Antes de iniciarmos a exploração, é preciso verificar se estamos trabalhando com campos em brancos/nulos, ou seja, se algum campo de meu conjunto está sem valor informado. Nestes casos, podemos estar aplicando uma das quatro técnicas a seguir para tratar tais 'anormalidades':\n",
    "\n",
    "* `drop` : descartar as linhas que possuem pelo menos um campo nulo;\n",
    "* `zerar` : informar valor 0 ou  ' ' nos campos nulos)\n",
    "* `média`: preenchê-los com a média da coluna a qual pertencem;\n",
    "* `mediana` : preenchê-los com a mediana.\n",
    "\n",
    "**Obs.: Lógico que, além destas quatro mais simples, há outras técnicas mais eficazes para o tratamento.**"
   ]
  },
  {
   "cell_type": "code",
   "execution_count": 4,
   "metadata": {},
   "outputs": [
    {
     "data": {
      "text/plain": [
       "Idade           0\n",
       "Item ID         0\n",
       "Login           0\n",
       "Nome do Item    0\n",
       "Sexo            0\n",
       "Valor           0\n",
       "dtype: int64"
      ]
     },
     "execution_count": 4,
     "metadata": {},
     "output_type": "execute_result"
    }
   ],
   "source": [
    "log_compras.isnull().sum()"
   ]
  },
  {
   "cell_type": "markdown",
   "metadata": {},
   "source": [
    "Felizmente tivemos o melhor caso: nenhum campo do dataset é nulo; no entanto, se esta não fosse a situação, poderíamos estar aplicando uma das quatro técnicas conforme demonstrado abaixo."
   ]
  },
  {
   "cell_type": "code",
   "execution_count": 5,
   "metadata": {},
   "outputs": [],
   "source": [
    "# log_compras.dropnan() >> drop das linhas com campos nulos\n",
    "\n",
    "# log_compras[['Idade', 'Item ID', 'Valor']].fillna(0) >> preenchimento com zeros\n",
    "# log_compras[['Login', 'Nome do Item', 'Sexo']].fillna('') >> preenchimento com string vazia\n",
    "\n",
    "# log_compras['Idade'].fillna(log_compras['Idade'].mean()) >> preenchimento com a média\n",
    "#                [...]\n",
    "    \n",
    "# log_compras['Idade'].fillna(log_compras['Idade'].median()) >> preenchimento com a mediana\n",
    "#                [...]"
   ]
  },
  {
   "cell_type": "markdown",
   "metadata": {},
   "source": [
    "## <font color=\"blue\">3.0 - Análise Exploratória: Dados</font>\n",
    "\n",
    "Beleza, agora já podemos partir para o entendimento da estrutura dos dados que estamos trabalhando. A fim de termos noção da magnitude do <abbr title='Conjunto de Dados'>dataset</abbr> que estamos analisando, primeiramente vamos verificar a quantidade de linhas e colunas presentes nele. Para isto, podemos estar utilizando o atributo `shape` da classe `DataFrame` do pandas, fornecendo o par: (quantidade de linhas, quantidade de colunas)."
   ]
  },
  {
   "cell_type": "code",
   "execution_count": 6,
   "metadata": {},
   "outputs": [
    {
     "name": "stdout",
     "output_type": "stream",
     "text": [
      "Linhas: 780\n",
      "Colunas: 6\n"
     ]
    }
   ],
   "source": [
    "print('Linhas: %i\\nColunas: %i' \\\n",
    "      % (log_compras.shape[0], log_compras.shape[1]))"
   ]
  },
  {
   "cell_type": "markdown",
   "metadata": {},
   "source": [
    "<hr>\n",
    "\n",
    "### <font color='blue'>- Variáveis</font>\n",
    "\n",
    "Outro fator muito importante que precisamos ter conhecimento antes de iniciarmos qualquer análise é saber quais são as `variáveis` de nosso dataset, o que elas representam e informações estatísticas delas. Segue cada tópico:\n",
    "\n",
    "`Dicionário das Variáveis:`\n",
    "\n",
    "* `Idade`         : idade do consumidor\n",
    "* `Item ID`       : código do produto comprado\n",
    "* `Login`         : nome de usuário do consumidor\n",
    "* `Nome do Item`  : descrição do produto\n",
    "* `Sexo`          : sexo do consumidor\n",
    "* `Valor`         : valor unitário do produto na compra"
   ]
  },
  {
   "cell_type": "code",
   "execution_count": 7,
   "metadata": {},
   "outputs": [
    {
     "data": {
      "text/html": [
       "<div>\n",
       "<style scoped>\n",
       "    .dataframe tbody tr th:only-of-type {\n",
       "        vertical-align: middle;\n",
       "    }\n",
       "\n",
       "    .dataframe tbody tr th {\n",
       "        vertical-align: top;\n",
       "    }\n",
       "\n",
       "    .dataframe thead th {\n",
       "        text-align: right;\n",
       "    }\n",
       "</style>\n",
       "<table border=\"1\" class=\"dataframe\">\n",
       "  <thead>\n",
       "    <tr style=\"text-align: right;\">\n",
       "      <th></th>\n",
       "      <th>Idade</th>\n",
       "      <th>Item ID</th>\n",
       "      <th>Login</th>\n",
       "      <th>Nome do Item</th>\n",
       "      <th>Sexo</th>\n",
       "      <th>Valor</th>\n",
       "    </tr>\n",
       "  </thead>\n",
       "  <tbody>\n",
       "    <tr>\n",
       "      <th>0</th>\n",
       "      <td>38</td>\n",
       "      <td>165</td>\n",
       "      <td>Aelalis34</td>\n",
       "      <td>Bone Crushing Silver Skewer</td>\n",
       "      <td>Masculino</td>\n",
       "      <td>3.37</td>\n",
       "    </tr>\n",
       "    <tr>\n",
       "      <th>1</th>\n",
       "      <td>21</td>\n",
       "      <td>119</td>\n",
       "      <td>Eolo46</td>\n",
       "      <td>Stormbringer, Dark Blade of Ending Misery</td>\n",
       "      <td>Masculino</td>\n",
       "      <td>2.32</td>\n",
       "    </tr>\n",
       "    <tr>\n",
       "      <th>2</th>\n",
       "      <td>34</td>\n",
       "      <td>174</td>\n",
       "      <td>Assastnya25</td>\n",
       "      <td>Primitive Blade</td>\n",
       "      <td>Masculino</td>\n",
       "      <td>2.46</td>\n",
       "    </tr>\n",
       "    <tr>\n",
       "      <th>3</th>\n",
       "      <td>21</td>\n",
       "      <td>92</td>\n",
       "      <td>Pheusrical25</td>\n",
       "      <td>Final Critic</td>\n",
       "      <td>Masculino</td>\n",
       "      <td>1.36</td>\n",
       "    </tr>\n",
       "    <tr>\n",
       "      <th>4</th>\n",
       "      <td>23</td>\n",
       "      <td>63</td>\n",
       "      <td>Aela59</td>\n",
       "      <td>Stormfury Mace</td>\n",
       "      <td>Masculino</td>\n",
       "      <td>1.27</td>\n",
       "    </tr>\n",
       "  </tbody>\n",
       "</table>\n",
       "</div>"
      ],
      "text/plain": [
       "   Idade  Item ID         Login                               Nome do Item  \\\n",
       "0     38      165     Aelalis34                Bone Crushing Silver Skewer   \n",
       "1     21      119        Eolo46  Stormbringer, Dark Blade of Ending Misery   \n",
       "2     34      174   Assastnya25                            Primitive Blade   \n",
       "3     21       92  Pheusrical25                               Final Critic   \n",
       "4     23       63        Aela59                             Stormfury Mace   \n",
       "\n",
       "        Sexo  Valor  \n",
       "0  Masculino   3.37  \n",
       "1  Masculino   2.32  \n",
       "2  Masculino   2.46  \n",
       "3  Masculino   1.36  \n",
       "4  Masculino   1.27  "
      ]
     },
     "execution_count": 7,
     "metadata": {},
     "output_type": "execute_result"
    }
   ],
   "source": [
    "log_compras.head() # tráz os cinco primeiros registros"
   ]
  },
  {
   "cell_type": "code",
   "execution_count": 8,
   "metadata": {},
   "outputs": [
    {
     "name": "stdout",
     "output_type": "stream",
     "text": [
      "<class 'pandas.core.frame.DataFrame'>\n",
      "RangeIndex: 780 entries, 0 to 779\n",
      "Data columns (total 6 columns):\n",
      "Idade           780 non-null int64\n",
      "Item ID         780 non-null int64\n",
      "Login           780 non-null object\n",
      "Nome do Item    780 non-null object\n",
      "Sexo            780 non-null object\n",
      "Valor           780 non-null float64\n",
      "dtypes: float64(1), int64(2), object(3)\n",
      "memory usage: 36.6+ KB\n"
     ]
    }
   ],
   "source": [
    "# df.dtypes >> retorna dados das colunas menos detalhados\n",
    "log_compras.info()"
   ]
  },
  {
   "cell_type": "code",
   "execution_count": 9,
   "metadata": {},
   "outputs": [
    {
     "data": {
      "text/html": [
       "<div>\n",
       "<style scoped>\n",
       "    .dataframe tbody tr th:only-of-type {\n",
       "        vertical-align: middle;\n",
       "    }\n",
       "\n",
       "    .dataframe tbody tr th {\n",
       "        vertical-align: top;\n",
       "    }\n",
       "\n",
       "    .dataframe thead th {\n",
       "        text-align: right;\n",
       "    }\n",
       "</style>\n",
       "<table border=\"1\" class=\"dataframe\">\n",
       "  <thead>\n",
       "    <tr style=\"text-align: right;\">\n",
       "      <th></th>\n",
       "      <th>Idade</th>\n",
       "      <th>Item ID</th>\n",
       "      <th>Valor</th>\n",
       "    </tr>\n",
       "  </thead>\n",
       "  <tbody>\n",
       "    <tr>\n",
       "      <th>count</th>\n",
       "      <td>780.000000</td>\n",
       "      <td>780.000000</td>\n",
       "      <td>780.000000</td>\n",
       "    </tr>\n",
       "    <tr>\n",
       "      <th>mean</th>\n",
       "      <td>22.729487</td>\n",
       "      <td>91.293590</td>\n",
       "      <td>2.931192</td>\n",
       "    </tr>\n",
       "    <tr>\n",
       "      <th>std</th>\n",
       "      <td>6.930604</td>\n",
       "      <td>52.707537</td>\n",
       "      <td>1.115780</td>\n",
       "    </tr>\n",
       "    <tr>\n",
       "      <th>min</th>\n",
       "      <td>7.000000</td>\n",
       "      <td>0.000000</td>\n",
       "      <td>1.030000</td>\n",
       "    </tr>\n",
       "    <tr>\n",
       "      <th>25%</th>\n",
       "      <td>19.000000</td>\n",
       "      <td>44.000000</td>\n",
       "      <td>1.960000</td>\n",
       "    </tr>\n",
       "    <tr>\n",
       "      <th>50%</th>\n",
       "      <td>22.000000</td>\n",
       "      <td>91.000000</td>\n",
       "      <td>2.880000</td>\n",
       "    </tr>\n",
       "    <tr>\n",
       "      <th>75%</th>\n",
       "      <td>25.000000</td>\n",
       "      <td>135.000000</td>\n",
       "      <td>3.910000</td>\n",
       "    </tr>\n",
       "    <tr>\n",
       "      <th>max</th>\n",
       "      <td>45.000000</td>\n",
       "      <td>183.000000</td>\n",
       "      <td>4.950000</td>\n",
       "    </tr>\n",
       "  </tbody>\n",
       "</table>\n",
       "</div>"
      ],
      "text/plain": [
       "            Idade     Item ID       Valor\n",
       "count  780.000000  780.000000  780.000000\n",
       "mean    22.729487   91.293590    2.931192\n",
       "std      6.930604   52.707537    1.115780\n",
       "min      7.000000    0.000000    1.030000\n",
       "25%     19.000000   44.000000    1.960000\n",
       "50%     22.000000   91.000000    2.880000\n",
       "75%     25.000000  135.000000    3.910000\n",
       "max     45.000000  183.000000    4.950000"
      ]
     },
     "execution_count": 9,
     "metadata": {},
     "output_type": "execute_result"
    }
   ],
   "source": [
    "log_compras.describe(include=[\"integer\", \"float\"])\n",
    "# count >>  quantidade de dados\n",
    "# mean  >>  média\n",
    "# std   >>  desvio padrão\n",
    "# min   >>  valor mínimo\n",
    "# 50%   >>  mediana\n",
    "# max   >>  valor máximo"
   ]
  },
  {
   "cell_type": "code",
   "execution_count": 10,
   "metadata": {},
   "outputs": [
    {
     "data": {
      "text/html": [
       "<div>\n",
       "<style scoped>\n",
       "    .dataframe tbody tr th:only-of-type {\n",
       "        vertical-align: middle;\n",
       "    }\n",
       "\n",
       "    .dataframe tbody tr th {\n",
       "        vertical-align: top;\n",
       "    }\n",
       "\n",
       "    .dataframe thead th {\n",
       "        text-align: right;\n",
       "    }\n",
       "</style>\n",
       "<table border=\"1\" class=\"dataframe\">\n",
       "  <thead>\n",
       "    <tr style=\"text-align: right;\">\n",
       "      <th></th>\n",
       "      <th>Login</th>\n",
       "      <th>Nome do Item</th>\n",
       "      <th>Sexo</th>\n",
       "    </tr>\n",
       "  </thead>\n",
       "  <tbody>\n",
       "    <tr>\n",
       "      <th>count</th>\n",
       "      <td>780</td>\n",
       "      <td>780</td>\n",
       "      <td>780</td>\n",
       "    </tr>\n",
       "    <tr>\n",
       "      <th>unique</th>\n",
       "      <td>573</td>\n",
       "      <td>179</td>\n",
       "      <td>3</td>\n",
       "    </tr>\n",
       "    <tr>\n",
       "      <th>top</th>\n",
       "      <td>Undirrala66</td>\n",
       "      <td>Final Critic</td>\n",
       "      <td>Masculino</td>\n",
       "    </tr>\n",
       "    <tr>\n",
       "      <th>freq</th>\n",
       "      <td>5</td>\n",
       "      <td>14</td>\n",
       "      <td>633</td>\n",
       "    </tr>\n",
       "  </tbody>\n",
       "</table>\n",
       "</div>"
      ],
      "text/plain": [
       "              Login  Nome do Item       Sexo\n",
       "count           780           780        780\n",
       "unique          573           179          3\n",
       "top     Undirrala66  Final Critic  Masculino\n",
       "freq              5            14        633"
      ]
     },
     "execution_count": 10,
     "metadata": {},
     "output_type": "execute_result"
    }
   ],
   "source": [
    "log_compras.describe(include=\"object\")\n",
    "# unique >>  dados exclusivos/únicos\n",
    "# top    >>  moda\n",
    "# freq   >>  frequência da moda"
   ]
  },
  {
   "cell_type": "markdown",
   "metadata": {},
   "source": [
    "<hr>\n",
    "\n",
    "### <font color=\"blue\">- Distribuição e Correlação Numérica</font>\n",
    "\n",
    "Próximo passo: verificar a `distribuição` dos dados numéricos (idade, item id e valor), bem como a `correlação` entre os tipos. Isso nos ajudará a entender onde estão os picos e os chãos de cada variável, além de verificar se o valor de uma variável influencia no valor da outra."
   ]
  },
  {
   "cell_type": "code",
   "execution_count": 11,
   "metadata": {},
   "outputs": [
    {
     "data": {
      "image/png": "[encoded data removed]",
      "text/plain": [
       "<Figure size 504x504 with 1 Axes>"
      ]
     },
     "metadata": {
      "needs_background": "light"
     },
     "output_type": "display_data"
    }
   ],
   "source": [
    "plt.figure(figsize=(7, 7))\n",
    "sbs.boxplot(data=log_compras); # este ponto-e-vírgula evita que o endereço de memória de cada objeto do gráfico seja exibido\n",
    "# sim, o ; existe em python, mas para algumas funções específicas '-'"
   ]
  },
  {
   "cell_type": "code",
   "execution_count": 12,
   "metadata": {},
   "outputs": [
    {
     "data": {
      "image/png": "[encoded data removed]",
      "text/plain": [
       "<Figure size 720x720 with 4 Axes>"
      ]
     },
     "metadata": {
      "needs_background": "light"
     },
     "output_type": "display_data"
    }
   ],
   "source": [
    "log_compras.hist(figsize=(10, 10), color='red');\n",
    "# Eixo X >> Valor da Coluna\n",
    "# Eixo Y >> Quantidade"
   ]
  },
  {
   "cell_type": "code",
   "execution_count": 13,
   "metadata": {},
   "outputs": [
    {
     "data": {
      "text/html": [
       "<div>\n",
       "<style scoped>\n",
       "    .dataframe tbody tr th:only-of-type {\n",
       "        vertical-align: middle;\n",
       "    }\n",
       "\n",
       "    .dataframe tbody tr th {\n",
       "        vertical-align: top;\n",
       "    }\n",
       "\n",
       "    .dataframe thead th {\n",
       "        text-align: right;\n",
       "    }\n",
       "</style>\n",
       "<table border=\"1\" class=\"dataframe\">\n",
       "  <thead>\n",
       "    <tr style=\"text-align: right;\">\n",
       "      <th></th>\n",
       "      <th>Idade</th>\n",
       "      <th>Item ID</th>\n",
       "      <th>Valor</th>\n",
       "    </tr>\n",
       "  </thead>\n",
       "  <tbody>\n",
       "    <tr>\n",
       "      <th>Idade</th>\n",
       "      <td>1.000000</td>\n",
       "      <td>0.087558</td>\n",
       "      <td>0.028214</td>\n",
       "    </tr>\n",
       "    <tr>\n",
       "      <th>Item ID</th>\n",
       "      <td>0.087558</td>\n",
       "      <td>1.000000</td>\n",
       "      <td>0.099170</td>\n",
       "    </tr>\n",
       "    <tr>\n",
       "      <th>Valor</th>\n",
       "      <td>0.028214</td>\n",
       "      <td>0.099170</td>\n",
       "      <td>1.000000</td>\n",
       "    </tr>\n",
       "  </tbody>\n",
       "</table>\n",
       "</div>"
      ],
      "text/plain": [
       "            Idade   Item ID     Valor\n",
       "Idade    1.000000  0.087558  0.028214\n",
       "Item ID  0.087558  1.000000  0.099170\n",
       "Valor    0.028214  0.099170  1.000000"
      ]
     },
     "execution_count": 13,
     "metadata": {},
     "output_type": "execute_result"
    }
   ],
   "source": [
    "log_compras.corr()"
   ]
  },
  {
   "cell_type": "code",
   "execution_count": 14,
   "metadata": {},
   "outputs": [
    {
     "data": {
      "image/png": "[encoded data removed]",
      "text/plain": [
       "<Figure size 720x504 with 2 Axes>"
      ]
     },
     "metadata": {
      "needs_background": "light"
     },
     "output_type": "display_data"
    }
   ],
   "source": [
    "plt.figure(figsize=(10, 7))\n",
    "sbs.heatmap(log_compras.corr(), annot=True, cmap='coolwarm');"
   ]
  },
  {
   "cell_type": "markdown",
   "metadata": {},
   "source": [
    "<hr>\n",
    "\n",
    "## <font color=\"blue\">3.1 - Análise Exploratória: Hipóteses</font>"
   ]
  },
  {
   "cell_type": "markdown",
   "metadata": {},
   "source": [
    "Após a Análise Exploratória, podemos ter as seguintes deduções:\n",
    "</br>\n",
    "\n",
    "`Hipóteses/Deduções:`\n",
    "\n",
    "    \n",
    "> foram efetuadas **780 vendas**, sendo **633 de homens (81.15%)**\n",
    "\n",
    "> das 780 vendas, **573** são de **usuários diferentes**\n",
    "\n",
    "> os princiais consumidores têm entre **19 - 25 anos**, enquanto que os menos ativos têm **mais de 40 anos**\n",
    "\n",
    "> a média da idade dos consumidores é de **22 anos (público jovem)**\n",
    "\n",
    "> os produtos estão na margem de **2.50, 3.50 e 4.00 dólares**\n",
    "\n",
    "> a média do vaor unitário dos produtos é de **2.93 dólares**\n",
    "\n",
    "> a idade do consumidor **não** influencia no valor da venda, pois a correlação entre elas é de **0.028**"
   ]
  },
  {
   "cell_type": "markdown",
   "metadata": {},
   "source": [
    "<hr>\n",
    "\n",
    "## <font color=\"blue\">4 - Extração de Insights (resolvendo cada tópico do desafio)</font>"
   ]
  },
  {
   "cell_type": "markdown",
   "metadata": {},
   "source": [
    "### <font color=\"blue\">- Contagem de Consumidores</font>\n",
    "\n",
    "Vamos verificar quantas compras foram efetuadas e comparar com a quantidade total de consumidores diferentes. A fim de facilitar a visualização, um gráfico de barras foi construído."
   ]
  },
  {
   "cell_type": "code",
   "execution_count": 15,
   "metadata": {},
   "outputs": [],
   "source": [
    "contagem_consumidores = [\n",
    "    ['Total de Compras', 'Consumidores Diferentes'],\n",
    "    [log_compras['Login'].count(), len(list(log_compras['Login'].unique()))]\n",
    "]"
   ]
  },
  {
   "cell_type": "code",
   "execution_count": 16,
   "metadata": {},
   "outputs": [
    {
     "data": {
      "image/png": "[encoded data removed]",
      "text/plain": [
       "<Figure size 504x504 with 1 Axes>"
      ]
     },
     "metadata": {
      "needs_background": "light"
     },
     "output_type": "display_data"
    }
   ],
   "source": [
    "# Montagem do Gráfico de Barras\n",
    "\n",
    "# plano #\n",
    "plt.figure(figsize=(7, 7))\n",
    "\n",
    "# títulos #\n",
    "plt.title('Contagem de Vendas VS Consumidores Diferentes')\n",
    "plt.xlabel('')\n",
    "plt.ylabel('Quantidade')\n",
    "\n",
    "# limites do eixo y >> quantidade #\n",
    "plt.ylim(0, 1000)\n",
    "\n",
    "# montagem do gráfico\n",
    "plt.bar(contagem_consumidores[0], contagem_consumidores[1], 0.8, color=[\"blue\", \"red\"]) # terceiro parâmetro corresponde ao comprimento\n",
    "# da barra\n",
    "\n",
    "# comentários #\n",
    "# total de compras\n",
    "plt.annotate(contagem_consumidores[1][0],                             # texto\n",
    "            xy=(0, contagem_consumidores[1][0]),                      # posição do conteúdo comentado\n",
    "            xycoords='data',                                          # posição de referência ao conteúdo comentado\n",
    "            xytext=(0, contagem_consumidores[1][0] + 75),             # posição do texto\n",
    "            textcoords='data',                                        # posição de referência ao texto\n",
    "            arrowprops=dict(arrowstyle=\"->\", connectionstyle=\"arc3\"), # layout da seta indicadora da referência  \n",
    "            bbox=dict(boxstyle=\"round\", color='blue', alpha=0.15))    # estilo da seta indicadora\n",
    "\n",
    "# consumidores diferentes\n",
    "plt.annotate(contagem_consumidores[1][1],\n",
    "            xy=(1, contagem_consumidores[1][1]),\n",
    "            xycoords='data',\n",
    "            xytext=(1, contagem_consumidores[1][1] + 75),\n",
    "            textcoords='data',\n",
    "            arrowprops=dict(arrowstyle=\"->\", connectionstyle=\"arc3\"),\n",
    "            bbox=dict(boxstyle=\"round\", color=\"red\", alpha=0.15))\n",
    "\n",
    "# definição do layout responsivo #\n",
    "plt.tight_layout()"
   ]
  },
  {
   "cell_type": "markdown",
   "metadata": {},
   "source": [
    "### <font color=\"blue\">- Geral das Compras</font>\n",
    "\n",
    "Agora, traçamos o paralelo entre a quantidade de cmpras com a quantidade de produtos diferentes vendidos, além de verificar o valor médio de cada compra vom o rendimento total das 780 vendas. Aplicaremos o gráfico de barras para visualização."
   ]
  },
  {
   "cell_type": "code",
   "execution_count": 17,
   "metadata": {},
   "outputs": [],
   "source": [
    "contagem_compras = [\n",
    "    ['Total de Compras', 'Produtos Diferentes'],\n",
    "    [contagem_consumidores[1][0], len(list(log_compras['Nome do Item'].unique()))]\n",
    "]\n",
    "\n",
    "rendimento = log_compras['Valor'].sum()\n",
    "media = log_compras['Valor'].mean()\n",
    "creditos = [rendimento, media]"
   ]
  },
  {
   "cell_type": "code",
   "execution_count": 18,
   "metadata": {},
   "outputs": [
    {
     "name": "stdout",
     "output_type": "stream",
     "text": [
      "Rendimento Total: R$ 2286.33\n",
      "Valor Médio de cada Compra: R$ 2.93\n"
     ]
    },
    {
     "data": {
      "image/png": "[encoded data removed]",
      "text/plain": [
       "<Figure size 504x504 with 1 Axes>"
      ]
     },
     "metadata": {
      "needs_background": "light"
     },
     "output_type": "display_data"
    }
   ],
   "source": [
    "# Exibição dos créditos\n",
    "print('Rendimento Total: R$ %.2f' % (creditos[0]))\n",
    "print('Valor Médio de cada Compra: R$ %.2f' % (creditos[1]))\n",
    "\n",
    "# Montagem do Gráfico: Qnt Vendas X Qnt Produtos Diferentes\n",
    "\n",
    "plt.figure(figsize=(7, 7))\n",
    "\n",
    "plt.title('Contagem de Vendas X Produtos Diferentes')\n",
    "plt.ylabel('')\n",
    "plt.ylabel('Quantidade')\n",
    "\n",
    "plt.ylim(0, 1000)\n",
    "\n",
    "plt.bar(contagem_compras[0], contagem_compras[1], color=['blue', 'orange'])\n",
    "\n",
    "# consumidores diferentes\n",
    "plt.annotate(contagem_compras[1][0],\n",
    "            xy=(0, contagem_consumidores[1][0]),\n",
    "            xycoords='data',\n",
    "            xytext=(0, contagem_consumidores[1][0] + 75),\n",
    "            textcoords='data',\n",
    "            arrowprops=dict(arrowstyle=\"->\", connectionstyle=\"arc3\"),\n",
    "            bbox=dict(boxstyle=\"round\", color=\"blue\", alpha=0.15))\n",
    "\n",
    "plt.annotate(contagem_compras[1][1],\n",
    "            xy=(1, contagem_compras[1][1]),\n",
    "            xycoords='data',\n",
    "            xytext=(1, contagem_compras[1][1] + 75),\n",
    "            textcoords='data',\n",
    "            arrowprops=dict(arrowstyle='->', connectionstyle='arc3'),\n",
    "            bbox=dict(boxstyle='round', color='orange', alpha=0.15))\n",
    "\n",
    "plt.tight_layout()"
   ]
  },
  {
   "cell_type": "markdown",
   "metadata": {},
   "source": [
    "### <font color=\"blue\">- Demografia</font>\n",
    "\n",
    "Análise da porcentagem dos consumidores classificando-os pelo sexo."
   ]
  },
  {
   "cell_type": "code",
   "execution_count": 19,
   "metadata": {},
   "outputs": [],
   "source": [
    "quantidade_sexo = [\n",
    "    log_compras['Sexo'][log_compras['Sexo'] == 'Masculino'].count(),\n",
    "    log_compras['Sexo'][log_compras['Sexo'] == 'Feminino'].count(),\n",
    "    log_compras['Sexo'][log_compras['Sexo'] != 'Masculino'][log_compras['Sexo'] != 'Feminino'].count()\n",
    "]\n",
    "\n",
    "valor_medio = [\n",
    "    round(log_compras['Valor'][log_compras['Sexo'] == 'Masculino'].mean(), 2),\n",
    "    round(log_compras['Valor'][log_compras['Sexo'] == 'Feminino'].mean(), 2),\n",
    "    round(log_compras['Valor'][log_compras['Sexo'] != 'Masculino'][log_compras['Sexo'] != 'Feminino'].mean(), 2)\n",
    "]\n",
    "\n",
    "valor_total = [\n",
    "    round(log_compras['Valor'][log_compras['Sexo'] == 'Masculino'].sum(), 2),\n",
    "    round(log_compras['Valor'][log_compras['Sexo'] == 'Feminino'].sum(), 2),\n",
    "    round(log_compras['Valor'][log_compras['Sexo'] != 'Masculino'][log_compras['Sexo'] != 'Feminino'].sum(), 2)\n",
    "]"
   ]
  },
  {
   "cell_type": "code",
   "execution_count": 20,
   "metadata": {},
   "outputs": [],
   "source": [
    "contagem_sexo = [\n",
    "    ['Masculino', 'Feminino', 'Outros'], # identificação do sexo\n",
    "    quantidade_sexo, # quantidade\n",
    "    list(map(porcentagem, quantidade_sexo, [contagem_consumidores[1][0]] * 3)), # porcentagem (último parâmetro\n",
    "# consiste no total d consumidores: 780\n",
    "    valor_medio, # preço médio\n",
    "    valor_total # valor total da compra\n",
    "]"
   ]
  },
  {
   "cell_type": "markdown",
   "metadata": {},
   "source": [
    "### <font color='blue'>- Gráfico Qnt de Consumidores por Sexo</font>"
   ]
  },
  {
   "cell_type": "code",
   "execution_count": 21,
   "metadata": {},
   "outputs": [
    {
     "data": {
      "image/png": "[encoded data removed]",
      "text/plain": [
       "<Figure size 504x504 with 1 Axes>"
      ]
     },
     "metadata": {
      "needs_background": "light"
     },
     "output_type": "display_data"
    }
   ],
   "source": [
    "plt.figure(figsize=(7, 7))\n",
    "plt.title('Comparação das Vendas por Sexo')\n",
    "plt.xlabel('Sexo')\n",
    "plt.ylabel('Quantidade')\n",
    "\n",
    "plt.ylim(0, 750)\n",
    "\n",
    "plt.bar(contagem_sexo[0], contagem_sexo[1], color=['blue', 'violet', 'gray'])\n",
    "\n",
    "plt.annotate(str(contagem_sexo[1][0]) + ' (' + str(contagem_sexo[2][0]) + '%)',\n",
    "            xy=(0, contagem_sexo[1][0]),\n",
    "            xycoords='data',\n",
    "            xytext=(0, contagem_sexo[1][0] + 75),\n",
    "            textcoords='data',\n",
    "            arrowprops=dict(arrowstyle='->', connectionstyle='arc3'),\n",
    "            bbox=dict(boxstyle='round', color='blue', alpha=0.15))\n",
    "\n",
    "plt.annotate(str(contagem_sexo[1][1]) + ' (' + str(contagem_sexo[2][1]) + '%)',\n",
    "            xy=(1, contagem_sexo[1][1]),\n",
    "            xycoords='data',\n",
    "            xytext=(1, contagem_sexo[1][1] + 75),\n",
    "            textcoords='data',\n",
    "            arrowprops=dict(arrowstyle='->', connectionstyle='arc3'),\n",
    "            bbox=dict(boxstyle='round', color='violet', alpha=0.15))\n",
    "\n",
    "plt.annotate(str(contagem_sexo[1][2]) + ' (' + str(contagem_sexo[2][2]) + '%)',\n",
    "            xy=(2, contagem_sexo[1][2]),\n",
    "            xycoords='data',\n",
    "            xytext=(2, contagem_sexo[1][2] + 75),\n",
    "            textcoords='data',\n",
    "            arrowprops=dict(arrowstyle='->', connectionstyle='arc3'),\n",
    "            bbox=dict(boxstyle='round', color='gray', alpha=0.15))\n",
    "\n",
    "plt.tight_layout()"
   ]
  },
  {
   "cell_type": "markdown",
   "metadata": {},
   "source": [
    "### <font color='blue'>- Gráfico Valor Total de Compras por Sexo</font>"
   ]
  },
  {
   "cell_type": "code",
   "execution_count": 22,
   "metadata": {},
   "outputs": [
    {
     "data": {
      "image/png": "[encoded data removed]",
      "text/plain": [
       "<Figure size 432x288 with 1 Axes>"
      ]
     },
     "metadata": {},
     "output_type": "display_data"
    }
   ],
   "source": [
    "plt.title('Valor Total em Compras')\n",
    "\n",
    "plt.pie(contagem_sexo[4], labels=contagem_sexo[0], \n",
    "        explode=[0.1, 0.1, 0.1] ,colors=['blue', 'violet', 'gray'], \n",
    "        shadow=True)\n",
    "\n",
    "plt.annotate('U$ ' + str(contagem_sexo[4][0]),\n",
    "            xy=(0, 0),\n",
    "            xycoords='data',\n",
    "            xytext=(-0.5, 0.5),\n",
    "            textcoords='data',\n",
    "            bbox=dict(boxstyle='round', color='white', alpha=1))\n",
    "\n",
    "plt.annotate('U$ ' + str(contagem_sexo[4][1]),\n",
    "            xy=(0, 0),\n",
    "            xycoords='data',\n",
    "            xytext=(0.4,-0.5),\n",
    "            textcoords='data',\n",
    "            bbox=dict(boxstyle='round', color='white', alpha=1))\n",
    "\n",
    "plt.annotate('U$ ' + str(contagem_sexo[4][2]),\n",
    "            xy=(0.98, 0),\n",
    "            xycoords='data',\n",
    "            xytext=(1, 0.5),\n",
    "            textcoords='data',\n",
    "            arrowprops=dict(arrowstyle='->', connectionstyle='arc3'),\n",
    "            bbox=dict(boxstyle='round', color='lightblue', alpha=1))\n",
    "\n",
    "\n",
    "plt.tight_layout()"
   ]
  },
  {
   "cell_type": "markdown",
   "metadata": {},
   "source": [
    "### <font color='blue'>- Gráfico Valor Médio de Compra por Sexo</font>"
   ]
  },
  {
   "cell_type": "code",
   "execution_count": 23,
   "metadata": {},
   "outputs": [
    {
     "data": {
      "image/png": "[encoded data removed]",
      "text/plain": [
       "<Figure size 432x288 with 1 Axes>"
      ]
     },
     "metadata": {
      "needs_background": "light"
     },
     "output_type": "display_data"
    }
   ],
   "source": [
    "plt.title('Valor Médio por Compra')\n",
    "plt.ylabel('Valor Médio por Compra')\n",
    "plt.ylim(0, 4.5)\n",
    "\n",
    "plt.bar(contagem_sexo[0], contagem_sexo[3], color=['blue', 'violet', 'gray'])\n",
    "\n",
    "plt.annotate('U$ ' + str(contagem_sexo[3][0]),\n",
    "            xy=(0, contagem_sexo[3][0]),\n",
    "            xycoords='data',\n",
    "            xytext=(0, contagem_sexo[3][0] + 0.75),\n",
    "            textcoords='data',\n",
    "            arrowprops=dict(arrowstyle='->', connectionstyle='arc3'),\n",
    "            bbox=dict(boxstyle='round', color='lightblue', alpha=1))\n",
    "\n",
    "plt.annotate('U$ ' + str(contagem_sexo[3][1]),\n",
    "            xy=(1, contagem_sexo[3][1]),\n",
    "            xycoords='data',\n",
    "            xytext=(1, contagem_sexo[3][1] + 0.75),\n",
    "            textcoords='data',\n",
    "            arrowprops=dict(arrowstyle='->', connectionstyle='arc3'),\n",
    "            bbox=dict(boxstyle='round', color='violet', alpha=1))\n",
    "\n",
    "plt.annotate('U$ ' + str(contagem_sexo[3][2]),\n",
    "            xy=(2, contagem_sexo[3][2]),\n",
    "            xycoords='data',\n",
    "            xytext=(2, contagem_sexo[3][2] + 0.75),\n",
    "            textcoords='data',\n",
    "            arrowprops=dict(arrowstyle='->', connectionstyle='arc3'),\n",
    "            bbox=dict(boxstyle='round', color='gray', alpha=1))\n",
    "\n",
    "plt.tight_layout()"
   ]
  },
  {
   "cell_type": "markdown",
   "metadata": {},
   "source": [
    "### <font color='blue'>- Top 5 Consumidores</font>"
   ]
  },
  {
   "cell_type": "code",
   "execution_count": 24,
   "metadata": {},
   "outputs": [],
   "source": [
    "sort = log_compras.sort_values(by='Login') # dataframe ordenado por meio do login (alfabética)\n",
    "\n",
    "consumidores_nao_estruturados = [\n",
    "    [], # login\n",
    "    [], # qnt de compras\n",
    "    [], # valor médio\n",
    "    [], # valor total\n",
    "    [] # itens comprados\n",
    "]\n",
    "\n",
    "consumidores_estruturados = []\n",
    "top5_consumidores = []"
   ]
  },
  {
   "cell_type": "code",
   "execution_count": 25,
   "metadata": {},
   "outputs": [],
   "source": [
    "# Extração dos Logins\n",
    "consumidores_nao_estruturados[0] = list(sort['Login'].unique())\n",
    "\n",
    "# Extração das qnts de compras por login\n",
    "consumidores_nao_estruturados[1] = list(sort.groupby('Login').count()['Valor'])\n",
    "\n",
    "# Valor Médio das Compras\n",
    "consumidores_nao_estruturados[2] = list(sort.groupby('Login').mean()['Valor'])\n",
    "\n",
    "# Valor Total das Compras\n",
    "consumidores_nao_estruturados[3] = list(sort.groupby('Login').sum()['Valor'])\n",
    "\n",
    "# Itens Comprados\n",
    "lista_produtos = []\n",
    "\n",
    "for consumidor in consumidores_nao_estruturados[0]:\n",
    "    lista_produtos.append(\n",
    "        list(\n",
    "            sort[sort['Login'] == consumidor]['Nome do Item']\n",
    "        )\n",
    "    )\n",
    "    \n",
    "consumidores_nao_estruturados[4] = lista_produtos"
   ]
  },
  {
   "cell_type": "code",
   "execution_count": 26,
   "metadata": {},
   "outputs": [],
   "source": [
    "# Estruturação dos dados (relacionar cada dado entre si)\n",
    "for coluna in range(0, len(consumidores_nao_estruturados[0])):\n",
    "    consumidor = [\n",
    "        consumidores_nao_estruturados[0][coluna],\n",
    "        consumidores_nao_estruturados[1][coluna],\n",
    "        consumidores_nao_estruturados[2][coluna],\n",
    "        consumidores_nao_estruturados[3][coluna],\n",
    "        consumidores_nao_estruturados[4][coluna]\n",
    "    ]\n",
    "    \n",
    "    consumidores_estruturados.append(consumidor)"
   ]
  },
  {
   "cell_type": "code",
   "execution_count": 27,
   "metadata": {},
   "outputs": [
    {
     "data": {
      "text/plain": [
       "[['Undirrala66',\n",
       "  5,\n",
       "  3.412,\n",
       "  17.06,\n",
       "  [\"Faith's Scimitar\",\n",
       "   'Piece Maker',\n",
       "   'Spectral Diamond Doomblade',\n",
       "   'Torchlight, Bond of Storms',\n",
       "   'Blood Infused Guardian']],\n",
       " ['Hailaphos89',\n",
       "  4,\n",
       "  1.4675,\n",
       "  5.87,\n",
       "  ['Trickster', 'Netherbane', 'Unending Tyranny', 'Nirvana']],\n",
       " ['Mindimnya67',\n",
       "  4,\n",
       "  3.185,\n",
       "  12.74,\n",
       "  ['Devine', 'Striker', 'Fiery Glass Crusader', 'Thunderfury Scimitar']],\n",
       " ['Qarwen67',\n",
       "  4,\n",
       "  2.4924999999999997,\n",
       "  9.969999999999999,\n",
       "  ['Azurewrath',\n",
       "   'Conqueror Adamantite Mace',\n",
       "   'The Void, Vengeance of Dark Magic',\n",
       "   'Relentless Iron Skewer']],\n",
       " ['Saedue76',\n",
       "  4,\n",
       "  3.39,\n",
       "  13.56,\n",
       "  ['Ritual Mace', 'Serenity', 'Striker', 'Thorn, Satchel of Dark Souls']]]"
      ]
     },
     "execution_count": 27,
     "metadata": {},
     "output_type": "execute_result"
    }
   ],
   "source": [
    "# Ordenação dos dados pela quantidade de compras (decrescente)\n",
    "consumidores_estruturados.sort(key=itemgetter(1), reverse=True)\n",
    "\n",
    "# Extração do Top 5 Consumidores\n",
    "for i in range(0, 5):\n",
    "    top5_consumidores.append(consumidores_estruturados[i])\n",
    "    \n",
    "top5_consumidores"
   ]
  },
  {
   "cell_type": "code",
   "execution_count": 28,
   "metadata": {},
   "outputs": [
    {
     "data": {
      "text/html": [
       "<div>\n",
       "<style scoped>\n",
       "    .dataframe tbody tr th:only-of-type {\n",
       "        vertical-align: middle;\n",
       "    }\n",
       "\n",
       "    .dataframe tbody tr th {\n",
       "        vertical-align: top;\n",
       "    }\n",
       "\n",
       "    .dataframe thead th {\n",
       "        text-align: right;\n",
       "    }\n",
       "</style>\n",
       "<table border=\"1\" class=\"dataframe\">\n",
       "  <thead>\n",
       "    <tr style=\"text-align: right;\">\n",
       "      <th></th>\n",
       "      <th>Login</th>\n",
       "      <th>Compras</th>\n",
       "      <th>Valor Médio</th>\n",
       "      <th>Valor Total</th>\n",
       "      <th>Produtos</th>\n",
       "    </tr>\n",
       "  </thead>\n",
       "  <tbody>\n",
       "    <tr>\n",
       "      <th>0</th>\n",
       "      <td>Undirrala66</td>\n",
       "      <td>5</td>\n",
       "      <td>3.4120</td>\n",
       "      <td>17.06</td>\n",
       "      <td>[Faith's Scimitar, Piece Maker, Spectral Diamo...</td>\n",
       "    </tr>\n",
       "    <tr>\n",
       "      <th>1</th>\n",
       "      <td>Hailaphos89</td>\n",
       "      <td>4</td>\n",
       "      <td>1.4675</td>\n",
       "      <td>5.87</td>\n",
       "      <td>[Trickster, Netherbane, Unending Tyranny, Nirv...</td>\n",
       "    </tr>\n",
       "    <tr>\n",
       "      <th>2</th>\n",
       "      <td>Mindimnya67</td>\n",
       "      <td>4</td>\n",
       "      <td>3.1850</td>\n",
       "      <td>12.74</td>\n",
       "      <td>[Devine, Striker, Fiery Glass Crusader, Thunde...</td>\n",
       "    </tr>\n",
       "    <tr>\n",
       "      <th>3</th>\n",
       "      <td>Qarwen67</td>\n",
       "      <td>4</td>\n",
       "      <td>2.4925</td>\n",
       "      <td>9.97</td>\n",
       "      <td>[Azurewrath, Conqueror Adamantite Mace, The Vo...</td>\n",
       "    </tr>\n",
       "    <tr>\n",
       "      <th>4</th>\n",
       "      <td>Saedue76</td>\n",
       "      <td>4</td>\n",
       "      <td>3.3900</td>\n",
       "      <td>13.56</td>\n",
       "      <td>[Ritual Mace, Serenity, Striker, Thorn, Satche...</td>\n",
       "    </tr>\n",
       "  </tbody>\n",
       "</table>\n",
       "</div>"
      ],
      "text/plain": [
       "         Login  Compras  Valor Médio  Valor Total  \\\n",
       "0  Undirrala66        5       3.4120        17.06   \n",
       "1  Hailaphos89        4       1.4675         5.87   \n",
       "2  Mindimnya67        4       3.1850        12.74   \n",
       "3     Qarwen67        4       2.4925         9.97   \n",
       "4     Saedue76        4       3.3900        13.56   \n",
       "\n",
       "                                            Produtos  \n",
       "0  [Faith's Scimitar, Piece Maker, Spectral Diamo...  \n",
       "1  [Trickster, Netherbane, Unending Tyranny, Nirv...  \n",
       "2  [Devine, Striker, Fiery Glass Crusader, Thunde...  \n",
       "3  [Azurewrath, Conqueror Adamantite Mace, The Vo...  \n",
       "4  [Ritual Mace, Serenity, Striker, Thorn, Satche...  "
      ]
     },
     "execution_count": 28,
     "metadata": {},
     "output_type": "execute_result"
    }
   ],
   "source": [
    "pd.DataFrame(top5_consumidores, [0, 1, 2, 3, 4], ['Login', 'Compras', 'Valor Médio', 'Valor Total', 'Produtos'])"
   ]
  },
  {
   "cell_type": "markdown",
   "metadata": {},
   "source": [
    "### <font color='blue'>- Top 5 Itens Mais Vendidos</font>"
   ]
  },
  {
   "cell_type": "code",
   "execution_count": 29,
   "metadata": {},
   "outputs": [],
   "source": [
    "sort = log_compras.sort_values(by='Nome do Item')\n",
    "\n",
    "itens_nao_estruturados = [\n",
    "    [], # id\n",
    "    [], # nome do item\n",
    "    [], # qnt de compras\n",
    "    [], # preço do item\n",
    "    [] # somatório do valor total das compras\n",
    "]\n",
    "itens_estruturados, top5_itens_populares, top5_itens_lucrativos = [], [], []"
   ]
  },
  {
   "cell_type": "code",
   "execution_count": 30,
   "metadata": {},
   "outputs": [],
   "source": [
    "# Extração dos dados não estruturados\n",
    "itens_nao_estruturados[0] = list(sort['Item ID'].unique())\n",
    "del itens_nao_estruturados[0][179:] # alguns produtos tiveram seus códigos duplicados, logo, é preciso excluir tais duplicidades\n",
    "\n",
    "itens_nao_estruturados[1] = list(sort['Nome do Item'].unique())\n",
    "itens_nao_estruturados[2] = list(sort.groupby('Nome do Item').count()['Valor'])\n",
    "itens_nao_estruturados[4] = sort.groupby('Nome do Item').sum()['Valor']"
   ]
  },
  {
   "cell_type": "code",
   "execution_count": 31,
   "metadata": {},
   "outputs": [],
   "source": [
    "# Exração do preço de cada item\n",
    "lista_valores_nao_arredondados = []\n",
    "lista_valores_arredondados = []\n",
    "\n",
    "# Valores nao arredondados\n",
    "for nome_do_item in itens_nao_estruturados[1]: \n",
    "    lista_valores_nao_arredondados.append(list(sort[sort['Nome do Item'] == nome_do_item]['Valor'].unique()))\n",
    "\n",
    "# Valores arredondados com 2 casas decimais\n",
    "for index_primaria in range(0, len(lista_valores_nao_arredondados)):\n",
    "    for index_secundaria in range(0, len(lista_valores_nao_arredondados[index_primaria])):\n",
    "        lista_valores_arredondados.append(\n",
    "            int(lista_valores_nao_arredondados[index_primaria][index_secundaria])\n",
    "        )\n",
    "        \n",
    "# Alguns dos produtos tiveram alteração cadastral de preços, ou seja, têm mais de um preço\n",
    "# a fim de saber quais produtos tiveram tal alteração, foi permanecida todas as alterações\n",
    "itens_nao_estruturados[3] = lista_valores_nao_arredondados"
   ]
  },
  {
   "cell_type": "code",
   "execution_count": 32,
   "metadata": {},
   "outputs": [],
   "source": [
    "# Estruturação dos Itens\n",
    "for numero_item in range(0, len(itens_nao_estruturados[0])):\n",
    "    item = [\n",
    "        itens_nao_estruturados[0][numero_item],\n",
    "        itens_nao_estruturados[1][numero_item],\n",
    "        itens_nao_estruturados[2][numero_item],\n",
    "        itens_nao_estruturados[3][numero_item],\n",
    "        itens_nao_estruturados[4][numero_item]\n",
    "    ]\n",
    "    itens_estruturados.append(item)"
   ]
  },
  {
   "cell_type": "code",
   "execution_count": 33,
   "metadata": {},
   "outputs": [],
   "source": [
    "top5_itens_lucrativos = itens_estruturados\n",
    "top5_itens_populares = itens_estruturados\n",
    "\n",
    "top5_itens_lucrativos.sort(key=itemgetter(4), reverse=True)\n",
    "top5_itens_populares.sort(key=itemgetter(2), reverse=True)\n",
    "\n",
    "top5_itens_lucrativos = top5_itens_lucrativos[0:5]\n",
    "top5_itens_populares = top5_itens_populares[0:5]"
   ]
  },
  {
   "cell_type": "code",
   "execution_count": 34,
   "metadata": {},
   "outputs": [
    {
     "data": {
      "text/html": [
       "<div>\n",
       "<style scoped>\n",
       "    .dataframe tbody tr th:only-of-type {\n",
       "        vertical-align: middle;\n",
       "    }\n",
       "\n",
       "    .dataframe tbody tr th {\n",
       "        vertical-align: top;\n",
       "    }\n",
       "\n",
       "    .dataframe thead th {\n",
       "        text-align: right;\n",
       "    }\n",
       "</style>\n",
       "<table border=\"1\" class=\"dataframe\">\n",
       "  <thead>\n",
       "    <tr style=\"text-align: right;\">\n",
       "      <th></th>\n",
       "      <th>Item ID</th>\n",
       "      <th>Nome do Item</th>\n",
       "      <th>Qnt Compras</th>\n",
       "      <th>Preço</th>\n",
       "      <th>Lucro</th>\n",
       "    </tr>\n",
       "  </thead>\n",
       "  <tbody>\n",
       "    <tr>\n",
       "      <th>0</th>\n",
       "      <td>145</td>\n",
       "      <td>Final Critic</td>\n",
       "      <td>14</td>\n",
       "      <td>[4.62, 1.3599999999999999]</td>\n",
       "      <td>38.60</td>\n",
       "    </tr>\n",
       "    <tr>\n",
       "      <th>1</th>\n",
       "      <td>39</td>\n",
       "      <td>Betrayal, Whisper of Grieving Widows</td>\n",
       "      <td>11</td>\n",
       "      <td>[2.35]</td>\n",
       "      <td>25.85</td>\n",
       "    </tr>\n",
       "    <tr>\n",
       "      <th>2</th>\n",
       "      <td>84</td>\n",
       "      <td>Arcane Gem</td>\n",
       "      <td>11</td>\n",
       "      <td>[2.23]</td>\n",
       "      <td>24.53</td>\n",
       "    </tr>\n",
       "    <tr>\n",
       "      <th>3</th>\n",
       "      <td>107</td>\n",
       "      <td>Stormcaller</td>\n",
       "      <td>10</td>\n",
       "      <td>[2.7800000000000002, 4.15]</td>\n",
       "      <td>34.65</td>\n",
       "    </tr>\n",
       "    <tr>\n",
       "      <th>4</th>\n",
       "      <td>176</td>\n",
       "      <td>Retribution Axe</td>\n",
       "      <td>9</td>\n",
       "      <td>[4.14]</td>\n",
       "      <td>37.26</td>\n",
       "    </tr>\n",
       "  </tbody>\n",
       "</table>\n",
       "</div>"
      ],
      "text/plain": [
       "   Item ID                          Nome do Item  Qnt Compras  \\\n",
       "0      145                          Final Critic           14   \n",
       "1       39  Betrayal, Whisper of Grieving Widows           11   \n",
       "2       84                            Arcane Gem           11   \n",
       "3      107                           Stormcaller           10   \n",
       "4      176                       Retribution Axe            9   \n",
       "\n",
       "                        Preço  Lucro  \n",
       "0  [4.62, 1.3599999999999999]  38.60  \n",
       "1                      [2.35]  25.85  \n",
       "2                      [2.23]  24.53  \n",
       "3  [2.7800000000000002, 4.15]  34.65  \n",
       "4                      [4.14]  37.26  "
      ]
     },
     "execution_count": 34,
     "metadata": {},
     "output_type": "execute_result"
    }
   ],
   "source": [
    "pd.DataFrame(top5_itens_populares, [x for x in range(0,5)], ['Item ID', 'Nome do Item', 'Qnt Compras', 'Preço', 'Lucro'])"
   ]
  },
  {
   "cell_type": "markdown",
   "metadata": {},
   "source": [
    "### <font color='blue'>- Top 5 Itens mais Lucrativos (coincidentemente, são os mesmos produtos mais populares)</font>"
   ]
  },
  {
   "cell_type": "code",
   "execution_count": 35,
   "metadata": {},
   "outputs": [
    {
     "data": {
      "text/html": [
       "<div>\n",
       "<style scoped>\n",
       "    .dataframe tbody tr th:only-of-type {\n",
       "        vertical-align: middle;\n",
       "    }\n",
       "\n",
       "    .dataframe tbody tr th {\n",
       "        vertical-align: top;\n",
       "    }\n",
       "\n",
       "    .dataframe thead th {\n",
       "        text-align: right;\n",
       "    }\n",
       "</style>\n",
       "<table border=\"1\" class=\"dataframe\">\n",
       "  <thead>\n",
       "    <tr style=\"text-align: right;\">\n",
       "      <th></th>\n",
       "      <th>Item ID</th>\n",
       "      <th>Nome do Item</th>\n",
       "      <th>Qnt Compras</th>\n",
       "      <th>Preço</th>\n",
       "      <th>Lucro</th>\n",
       "    </tr>\n",
       "  </thead>\n",
       "  <tbody>\n",
       "    <tr>\n",
       "      <th>0</th>\n",
       "      <td>145</td>\n",
       "      <td>Final Critic</td>\n",
       "      <td>14</td>\n",
       "      <td>[4.62, 1.3599999999999999]</td>\n",
       "      <td>38.60</td>\n",
       "    </tr>\n",
       "    <tr>\n",
       "      <th>1</th>\n",
       "      <td>39</td>\n",
       "      <td>Betrayal, Whisper of Grieving Widows</td>\n",
       "      <td>11</td>\n",
       "      <td>[2.35]</td>\n",
       "      <td>25.85</td>\n",
       "    </tr>\n",
       "    <tr>\n",
       "      <th>2</th>\n",
       "      <td>84</td>\n",
       "      <td>Arcane Gem</td>\n",
       "      <td>11</td>\n",
       "      <td>[2.23]</td>\n",
       "      <td>24.53</td>\n",
       "    </tr>\n",
       "    <tr>\n",
       "      <th>3</th>\n",
       "      <td>107</td>\n",
       "      <td>Stormcaller</td>\n",
       "      <td>10</td>\n",
       "      <td>[2.7800000000000002, 4.15]</td>\n",
       "      <td>34.65</td>\n",
       "    </tr>\n",
       "    <tr>\n",
       "      <th>4</th>\n",
       "      <td>176</td>\n",
       "      <td>Retribution Axe</td>\n",
       "      <td>9</td>\n",
       "      <td>[4.14]</td>\n",
       "      <td>37.26</td>\n",
       "    </tr>\n",
       "  </tbody>\n",
       "</table>\n",
       "</div>"
      ],
      "text/plain": [
       "   Item ID                          Nome do Item  Qnt Compras  \\\n",
       "0      145                          Final Critic           14   \n",
       "1       39  Betrayal, Whisper of Grieving Widows           11   \n",
       "2       84                            Arcane Gem           11   \n",
       "3      107                           Stormcaller           10   \n",
       "4      176                       Retribution Axe            9   \n",
       "\n",
       "                        Preço  Lucro  \n",
       "0  [4.62, 1.3599999999999999]  38.60  \n",
       "1                      [2.35]  25.85  \n",
       "2                      [2.23]  24.53  \n",
       "3  [2.7800000000000002, 4.15]  34.65  \n",
       "4                      [4.14]  37.26  "
      ]
     },
     "execution_count": 35,
     "metadata": {},
     "output_type": "execute_result"
    }
   ],
   "source": [
    "pd.DataFrame(top5_itens_lucrativos, [x for x in range(0,5)], ['Item ID', 'Nome do Item', 'Qnt Compras', 'Preço', 'Lucro'])"
   ]
  },
  {
   "cell_type": "markdown",
   "metadata": {},
   "source": [
    "<hr>\n",
    "\n",
    "## <font color='blue'>5 - Migrando Dados ao MongoDB</font>\n",
    "\n",
    "MongoDB consiste num banco de dados `nosql orientado a documentos` e muito útil para armazenar logs, consequentemente, iremos salvar todos os logs dde compras contidos no arquivo de análise numa coleção do banco. Para tal finalidade, utilizaremos a biblioteca `pymongo` para comunicação com o banco de dados, e a `json`, para leitura rápida do arquivo."
   ]
  },
  {
   "cell_type": "code",
   "execution_count": 36,
   "metadata": {},
   "outputs": [],
   "source": [
    "from pymongo import MongoClient\n",
    "import pymongo\n",
    "\n",
    "import json"
   ]
  },
  {
   "cell_type": "code",
   "execution_count": 37,
   "metadata": {},
   "outputs": [],
   "source": [
    "conexao = MongoClient('localhost', 27017)\n",
    "banco_dados = conexao[\"log_compras\"]\n",
    "colecao = banco_dados[\"desafio_dsa\"]"
   ]
  },
  {
   "cell_type": "code",
   "execution_count": null,
   "metadata": {},
   "outputs": [],
   "source": [
    "with open('arquivos\\dados_compras.json', 'r', newline='') as logs:\n",
    "    compras = logs.read()\n",
    "    dados = json.loads(compras)\n",
    "\n",
    "ids = colecao.insert_many(dados)\n",
    "\n",
    "# exibindo ids dos documentos inseridos\n",
    "print(ids.inserted_ids)"
   ]
  },
  {
   "cell_type": "code",
   "execution_count": 110,
   "metadata": {},
   "outputs": [],
   "source": [
    "colecao.close\n",
    "banco_dados.close\n",
    "conexao.close()"
   ]
  }
 ],
 "metadata": {
  "kernelspec": {
   "display_name": "Python 3",
   "language": "python",
   "name": "python3"
  },
  "language_info": {
   "codemirror_mode": {
    "name": "ipython",
    "version": 3
   },
   "file_extension": ".py",
   "mimetype": "text/x-python",
   "name": "python",
   "nbconvert_exporter": "python",
   "pygments_lexer": "ipython3",
   "version": "3.7.3"
  }
 },
 "nbformat": 4,
 "nbformat_minor": 2
}
