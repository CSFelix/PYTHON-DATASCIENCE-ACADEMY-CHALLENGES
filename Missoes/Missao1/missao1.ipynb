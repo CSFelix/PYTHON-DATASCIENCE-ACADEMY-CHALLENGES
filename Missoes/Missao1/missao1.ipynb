{
 "cells": [
  {
   "cell_type": "markdown",
   "metadata": {},
   "source": [
    "# <font color='blue'>Data Science Academy - Python Fundamentos - Capítulo 7</font>\n",
    "\n",
    "## Download: http://github.com/dsacademybr"
   ]
  },
  {
   "cell_type": "markdown",
   "metadata": {},
   "source": [
    "## Missão: Implementar um algoritmo para determinar se uma string possui todos os caracteres exclusivos."
   ]
  },
  {
   "cell_type": "markdown",
   "metadata": {},
   "source": [
    "## Nível de Dificuldade: Baixo"
   ]
  },
  {
   "cell_type": "markdown",
   "metadata": {},
   "source": [
    "## Premissas\n",
    "\n",
    "* Podemos assumir que a string é ASCII?\n",
    "     * Sim\n",
    "     * Nota: As cadeias de caracteres Unicode podem exigir tratamento especial dependendo do seu idioma\n",
    "* Podemos supor que há distinção entre maiúsculas e minúsculas?\n",
    "     * Sim\n",
    "* Podemos usar estruturas de dados adicionais?\n",
    "     * Sim"
   ]
  },
  {
   "cell_type": "markdown",
   "metadata": {},
   "source": [
    "## Teste Cases\n",
    "\n",
    "* None -> False\n",
    "* '' -> True\n",
    "* 'foo' -> False\n",
    "* 'bar' -> True"
   ]
  },
  {
   "cell_type": "markdown",
   "metadata": {},
   "source": [
    "## Algoritmo: Hash Map Lookup\n",
    "\n",
    "Manteremos um mapa hash (conjunto) para rastrear os caracteres únicos que encontramos.\n",
    "\n",
    "Passos:\n",
    "* Faça um scan cada caracter\n",
    "* Para cada caracter:\n",
    "     * Se o caracter não existir em um mapa de hash, adicione o caractere a um mapa de hash\n",
    "     * Senão, retorne False\n",
    "* Retornar Verdadeiro\n",
    "\n",
    "Nota:\n",
    "* Também podemos usar um dicionário, mas parece mais lógico usar um set, pois ele não contém elementos duplicados"
   ]
  },
  {
   "cell_type": "markdown",
   "metadata": {},
   "source": [
    "## Solução"
   ]
  },
  {
   "cell_type": "code",
   "execution_count": 1,
   "metadata": {},
   "outputs": [],
   "source": [
    "class UniqueChars(object):\n",
    "\n",
    "    def has_unique_chars(self, string):\n",
    "        # Implemente aqui sua solução\n",
    "        if string is None: string = 'None' # transformo None em string\n",
    "        elif string is True: string = 'True' # transformo True em string\n",
    "        elif string is False: setring = 'False' # transformo False em string\n",
    "        \n",
    "        tabela_hash = set() # criação da tabela hash\n",
    "        \n",
    "        for caractere in string:\n",
    "            if caractere in tabela_hash: return False # se o caractere já existe na tabela, retorno False\n",
    "            else: tabela_hash.add(caractere.lower()) # caso contrário, adiciono caractere nela\n",
    "        \n",
    "        return True # se nenhum caractere se repetir, retorno True"
   ]
  },
  {
   "cell_type": "markdown",
   "metadata": {},
   "source": [
    "## Teste da Solução"
   ]
  },
  {
   "cell_type": "code",
   "execution_count": 2,
   "metadata": {},
   "outputs": [
    {
     "name": "stdout",
     "output_type": "stream",
     "text": [
      "Overwriting missao1.py\n"
     ]
    }
   ],
   "source": [
    "%%writefile missao1.py\n",
    "from nose.tools import assert_equal\n",
    "\n",
    "\n",
    "class TestUniqueChars(object):\n",
    "\n",
    "    def test_unique_chars(self, func):\n",
    "        assert_equal(func(None), False)\n",
    "        assert_equal(func(''), True)\n",
    "        assert_equal(func('foo'), False)\n",
    "        assert_equal(func('bar'), True)\n",
    "        print('Sua solução foi executada com sucesso! Parabéns!')\n",
    "\n",
    "\n",
    "def main():\n",
    "    test = TestUniqueChars()\n",
    "    try:\n",
    "        unique_chars = UniqueChars()\n",
    "        test.test_unique_chars(unique_chars.has_unique_chars)\n",
    "    except NameError:\n",
    "        pass\n",
    "\n",
    "\n",
    "if __name__ == '__main__':\n",
    "    main()"
   ]
  },
  {
   "cell_type": "code",
   "execution_count": 3,
   "metadata": {},
   "outputs": [
    {
     "name": "stdout",
     "output_type": "stream",
     "text": [
      "Sua solução foi executada com sucesso! Parabéns!\n"
     ]
    }
   ],
   "source": [
    "%run -i missao1.py"
   ]
  },
  {
   "cell_type": "markdown",
   "metadata": {},
   "source": [
    "## Fim"
   ]
  },
  {
   "cell_type": "markdown",
   "metadata": {},
   "source": [
    "### Obrigado - Data Science Academy - <a href=\"http://facebook.com/dsacademybr\">facebook.com/dsacademybr</a>"
   ]
  }
 ],
 "metadata": {
  "kernelspec": {
   "display_name": "Python 3",
   "language": "python",
   "name": "python3"
  },
  "language_info": {
   "codemirror_mode": {
    "name": "ipython",
    "version": 3
   },
   "file_extension": ".py",
   "mimetype": "text/x-python",
   "name": "python",
   "nbconvert_exporter": "python",
   "pygments_lexer": "ipython3",
   "version": "3.7.3"
  }
 },
 "nbformat": 4,
 "nbformat_minor": 1
}
