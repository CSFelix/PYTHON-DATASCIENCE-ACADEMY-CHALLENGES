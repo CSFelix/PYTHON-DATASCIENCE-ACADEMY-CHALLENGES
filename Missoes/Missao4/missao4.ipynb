{
 "cells": [
  {
   "cell_type": "markdown",
   "metadata": {},
   "source": [
    "# <font color='blue'>Data Science Academy - Python Fundamentos - Capítulo 7</font>\n",
    "\n",
    "## Download: http://github.com/dsacademybr"
   ]
  },
  {
   "cell_type": "markdown",
   "metadata": {},
   "source": [
    "## Missão: Implementar o Algoritmo de Ordenação \"Selection sort\"."
   ]
  },
  {
   "cell_type": "markdown",
   "metadata": {},
   "source": [
    "## Nível de Dificuldade: Alto"
   ]
  },
  {
   "cell_type": "markdown",
   "metadata": {},
   "source": [
    "## Premissas\n",
    "\n",
    "* As duplicatas são permitidas?\n",
    "     * Sim\n",
    "* Podemos assumir que a entrada é válida?\n",
    "     * Não\n",
    "* Podemos supor que isso se encaixa na memória?\n",
    "     * Sim"
   ]
  },
  {
   "cell_type": "markdown",
   "metadata": {},
   "source": [
    "## Teste Cases\n",
    "\n",
    "* None -> Exception\n",
    "* [] -> []\n",
    "* One element -> [element]\n",
    "* Two or more elements"
   ]
  },
  {
   "cell_type": "markdown",
   "metadata": {},
   "source": [
    "## Algoritmo\n",
    "\n",
    "Animação do Wikipedia:\n",
    "![alt text](http://upload.wikimedia.org/wikipedia/commons/9/94/Selection-Sort-Animation.gif)\n",
    "\n",
    "Podemos fazer isso de forma recursiva ou iterativa. Iterativamente será mais eficiente, pois não requer sobrecarga de espaço extra com as chamadas recursivas.\n",
    "\n",
    "* Para cada elemento\n",
    "     * Verifique cada elemento à direita para encontrar o min\n",
    "     * Se min < elemento atual, swap"
   ]
  },
  {
   "cell_type": "markdown",
   "metadata": {},
   "source": [
    "## Solução"
   ]
  },
  {
   "cell_type": "code",
   "execution_count": 64,
   "metadata": {},
   "outputs": [],
   "source": [
    "class SelectionSort(object):\n",
    "\n",
    "    def sort(self, data):\n",
    "        # Atributos #\n",
    "        self._index = 0 # index do elemento ordenado\n",
    "        self._index_menor_elemento = None # index do menor elemento\n",
    "        self._temp = None # utilizado para armazenamento temporário na troca de posição dos elementos \n",
    "        \n",
    "        # Processamento #\n",
    "        for loop in range(0, len(data)):\n",
    "            # encontrando index do menor elemento\n",
    "            menor_elemento = min(data[self._index:])\n",
    "            self._index_menor_elemento = data.index(menor_elemento, self._index) \n",
    "            # list.index(value, start, stop)\n",
    "            \n",
    "            # realizando troca\n",
    "            self._temp = data[self._index]\n",
    "            data[self._index] = data[self._index_menor_elemento]\n",
    "            data[self._index_menor_elemento] = self._temp\n",
    "            \n",
    "            # incrementando index da ordenação\n",
    "            self._index += 1\n",
    "       \n",
    "        # Retorno #\n",
    "        return(data)"
   ]
  },
  {
   "cell_type": "markdown",
   "metadata": {},
   "source": [
    "## Teste da Solução"
   ]
  },
  {
   "cell_type": "code",
   "execution_count": 65,
   "metadata": {},
   "outputs": [
    {
     "name": "stdout",
     "output_type": "stream",
     "text": [
      "Overwriting missao4.py\n"
     ]
    }
   ],
   "source": [
    "%%writefile missao4.py\n",
    "from nose.tools import assert_equal, assert_raises\n",
    "\n",
    "\n",
    "class TestSelectionSort(object):\n",
    "\n",
    "    def test_selection_sort(self, func):\n",
    "        print('None input')\n",
    "        assert_raises(TypeError, func, None)\n",
    "\n",
    "        print('Input vazio')\n",
    "        assert_equal(func([]), [])\n",
    "\n",
    "        print('Um elemento')\n",
    "        assert_equal(func([5]), [5])\n",
    "\n",
    "        print('Dois ou mais elementos')\n",
    "        data = [5, 1, 7, 2, 6, -3, 5, 7, -10]\n",
    "        assert_equal(func(data), sorted(data))\n",
    "\n",
    "        print('Sua solução foi executada com sucesso! Parabéns!')\n",
    "\n",
    "\n",
    "def main():\n",
    "    test = TestSelectionSort()\n",
    "    try:\n",
    "        selection_sort = SelectionSort()\n",
    "        test.test_selection_sort(selection_sort.sort)\n",
    "    except NameError:\n",
    "        pass\n",
    "\n",
    "\n",
    "if __name__ == '__main__':\n",
    "    main()"
   ]
  },
  {
   "cell_type": "code",
   "execution_count": 66,
   "metadata": {},
   "outputs": [
    {
     "name": "stdout",
     "output_type": "stream",
     "text": [
      "None input\n",
      "Input vazio\n",
      "Um elemento\n",
      "Dois ou mais elementos\n",
      "Sua solução foi executada com sucesso! Parabéns!\n"
     ]
    }
   ],
   "source": [
    "%run -i missao4.py"
   ]
  },
  {
   "cell_type": "markdown",
   "metadata": {},
   "source": [
    "## Fim"
   ]
  },
  {
   "cell_type": "markdown",
   "metadata": {},
   "source": [
    "### Obrigado - Data Science Academy - <a href=\"http://facebook.com/dsacademybr\">facebook.com/dsacademybr</a>"
   ]
  }
 ],
 "metadata": {
  "kernelspec": {
   "display_name": "Python 3",
   "language": "python",
   "name": "python3"
  },
  "language_info": {
   "codemirror_mode": {
    "name": "ipython",
    "version": 3
   },
   "file_extension": ".py",
   "mimetype": "text/x-python",
   "name": "python",
   "nbconvert_exporter": "python",
   "pygments_lexer": "ipython3",
   "version": "3.7.3"
  }
 },
 "nbformat": 4,
 "nbformat_minor": 1
}
